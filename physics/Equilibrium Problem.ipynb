{
 "cells": [
  {
   "cell_type": "code",
   "execution_count": 26,
   "metadata": {},
   "outputs": [],
   "source": [
    "def equilibrium(A):\n",
    "    \"\"\"\n",
    "    A function who takes an input 1D array and finds the equilibrium point in the vector \n",
    "    where a sum of the left side - right side is at a minimum value.\n",
    "    \"\"\"\n",
    "    left_sum = A[0]\n",
    "    right_sum = sum(A) - A[0]\n",
    "    difference = abs(left_sum - right_sum)\n",
    "    for i in range(1,len(A)-1):\n",
    "        left_sum += A[i]\n",
    "        right_sum -= A[i]\n",
    "        current_difference = abs(left_sum - right_sum)\n",
    "        if difference > current_difference:\n",
    "            difference = current_difference\n",
    "    return difference"
   ]
  },
  {
   "cell_type": "code",
   "execution_count": 28,
   "metadata": {},
   "outputs": [
    {
     "data": {
      "text/plain": [
       "1"
      ]
     },
     "execution_count": 28,
     "metadata": {},
     "output_type": "execute_result"
    }
   ],
   "source": [
    "# TEST\n",
    "equilibrium([3, 1, 2, 4, 3])"
   ]
  },
  {
   "cell_type": "code",
   "execution_count": null,
   "metadata": {},
   "outputs": [],
   "source": []
  }
 ],
 "metadata": {
  "kernelspec": {
   "display_name": "Python 3",
   "language": "python",
   "name": "python3"
  },
  "language_info": {
   "codemirror_mode": {
    "name": "ipython",
    "version": 3
   },
   "file_extension": ".py",
   "mimetype": "text/x-python",
   "name": "python",
   "nbconvert_exporter": "python",
   "pygments_lexer": "ipython3",
   "version": "3.8.5"
  }
 },
 "nbformat": 4,
 "nbformat_minor": 4
}
