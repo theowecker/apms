{
 "cells": [
  {
   "cell_type": "code",
   "execution_count": 36,
   "metadata": {},
   "outputs": [],
   "source": [
    "def max_counter(n,A):\n",
    "    \"\"\"\n",
    "    Given n counters all initilized to 0, give an array of instructions, A, which increase each counter.\n",
    "    If A[i]>n then set all counters to the maximum current counter.\n",
    "    \"\"\"\n",
    "    counters = [0] * n\n",
    "    startline = 0\n",
    "    current_max = 0\n",
    "    for i in A:\n",
    "        x = i - 1\n",
    "        if i > n:\n",
    "            startline = current_max\n",
    "        elif counters[x] < startline:\n",
    "            counters[x] = startline + 1\n",
    "        else:\n",
    "            counters[x] += 1\n",
    "        if i <= n and counters[x] > current_max:\n",
    "            current_max = counters[x]\n",
    "    for i in range(0, len(counters)):\n",
    "        if counters[i] < startline:\n",
    "            counters[i] = startline\n",
    "    return counters"
   ]
  },
  {
   "cell_type": "code",
   "execution_count": 37,
   "metadata": {},
   "outputs": [
    {
     "data": {
      "text/plain": [
       "[3, 2, 2, 4, 2]"
      ]
     },
     "execution_count": 37,
     "metadata": {},
     "output_type": "execute_result"
    }
   ],
   "source": [
    "A = [3, 4, 4, 6, 1, 4, 4]\n",
    "max_counter(5,A)"
   ]
  }
 ],
 "metadata": {
  "kernelspec": {
   "display_name": "Python 3",
   "language": "python",
   "name": "python3"
  },
  "language_info": {
   "codemirror_mode": {
    "name": "ipython",
    "version": 3
   },
   "file_extension": ".py",
   "mimetype": "text/x-python",
   "name": "python",
   "nbconvert_exporter": "python",
   "pygments_lexer": "ipython3",
   "version": "3.8.5"
  }
 },
 "nbformat": 4,
 "nbformat_minor": 4
}
