{
 "cells": [
  {
   "cell_type": "code",
   "execution_count": 37,
   "metadata": {},
   "outputs": [],
   "source": [
    "def cyclic(A, k):\n",
    "    \"\"\"Contents of array rotated by k times to the right... (i+k)%len(A) \"\"\"\n",
    "    A_rot = [None] * len(A)\n",
    "    \n",
    "    for i in range(0,len(A)):\n",
    "        A_rot[(i+k) % len(A)] = A[i]    \n",
    "    \n",
    "    return print(A_rot)\n",
    "    "
   ]
  },
  {
   "cell_type": "code",
   "execution_count": 38,
   "metadata": {},
   "outputs": [
    {
     "name": "stdout",
     "output_type": "stream",
     "text": [
      "[5, 1, 2, 3, 4]\n",
      "[6, 3, 9, 2, 3]\n"
     ]
    }
   ],
   "source": [
    "# TESTS\n",
    "\n",
    "A = [1,2,3,4,5]\n",
    "cyclic(A,1)\n",
    "\n",
    "A2 = [2,3,6,3,9]\n",
    "cyclic(A2,3)"
   ]
  }
 ],
 "metadata": {
  "kernelspec": {
   "display_name": "Python 3",
   "language": "python",
   "name": "python3"
  },
  "language_info": {
   "codemirror_mode": {
    "name": "ipython",
    "version": 3
   },
   "file_extension": ".py",
   "mimetype": "text/x-python",
   "name": "python",
   "nbconvert_exporter": "python",
   "pygments_lexer": "ipython3",
   "version": "3.8.5"
  }
 },
 "nbformat": 4,
 "nbformat_minor": 4
}
